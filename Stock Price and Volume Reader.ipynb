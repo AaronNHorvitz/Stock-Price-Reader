{
 "cells": [
  {
   "cell_type": "markdown",
   "metadata": {},
   "source": [
    "# Stock Price Reader"
   ]
  },
  {
   "cell_type": "markdown",
   "metadata": {},
   "source": [
    "# dependencies"
   ]
  },
  {
   "cell_type": "code",
   "execution_count": 2,
   "metadata": {
    "ExecuteTime": {
     "end_time": "2020-04-25T11:07:10.515508Z",
     "start_time": "2020-04-25T11:07:10.350542Z"
    }
   },
   "outputs": [],
   "source": [
    "import pandas as pd\n",
    "import numpy as np\n",
    "import datetime as dt\n",
    "\n",
    "from pandas_datareader import data\n",
    "from matplotlib import pyplot as plt"
   ]
  },
  {
   "cell_type": "markdown",
   "metadata": {},
   "source": [
    "# chose the company and source of the data"
   ]
  },
  {
   "cell_type": "code",
   "execution_count": 16,
   "metadata": {
    "ExecuteTime": {
     "end_time": "2020-04-25T11:17:54.217295Z",
     "start_time": "2020-04-25T11:17:54.214154Z"
    }
   },
   "outputs": [],
   "source": [
    "company = 'IBM'\n",
    "source = 'yahoo'"
   ]
  },
  {
   "cell_type": "markdown",
   "metadata": {},
   "source": [
    " # set time boundaries"
   ]
  },
  {
   "cell_type": "code",
   "execution_count": 3,
   "metadata": {
    "ExecuteTime": {
     "end_time": "2020-04-25T11:07:13.490438Z",
     "start_time": "2020-04-25T11:07:13.486450Z"
    }
   },
   "outputs": [
    {
     "name": "stdout",
     "output_type": "stream",
     "text": [
      "2017-01-01 00:00:00 2020-04-25 06:07:13.487483\n"
     ]
    }
   ],
   "source": [
    "start=dt.datetime(2017, 1, 1)\n",
    "end=dt.datetime.today()\n",
    "\n",
    "print(start,end)"
   ]
  },
  {
   "cell_type": "markdown",
   "metadata": {},
   "source": [
    "# read in data"
   ]
  },
  {
   "cell_type": "code",
   "execution_count": 17,
   "metadata": {
    "ExecuteTime": {
     "end_time": "2020-04-25T11:17:59.018150Z",
     "start_time": "2020-04-25T11:17:58.013407Z"
    }
   },
   "outputs": [],
   "source": [
    "df = data.DataReader(company, source, start, end)"
   ]
  },
  {
   "cell_type": "markdown",
   "metadata": {},
   "source": [
    "# display data"
   ]
  },
  {
   "cell_type": "code",
   "execution_count": 8,
   "metadata": {
    "ExecuteTime": {
     "end_time": "2020-04-25T11:09:49.419409Z",
     "start_time": "2020-04-25T11:09:49.404134Z"
    }
   },
   "outputs": [
    {
     "data": {
      "text/html": [
       "<div>\n",
       "<style scoped>\n",
       "    .dataframe tbody tr th:only-of-type {\n",
       "        vertical-align: middle;\n",
       "    }\n",
       "\n",
       "    .dataframe tbody tr th {\n",
       "        vertical-align: top;\n",
       "    }\n",
       "\n",
       "    .dataframe thead th {\n",
       "        text-align: right;\n",
       "    }\n",
       "</style>\n",
       "<table border=\"1\" class=\"dataframe\">\n",
       "  <thead>\n",
       "    <tr style=\"text-align: right;\">\n",
       "      <th></th>\n",
       "      <th>High</th>\n",
       "      <th>Low</th>\n",
       "      <th>Open</th>\n",
       "      <th>Close</th>\n",
       "      <th>Volume</th>\n",
       "      <th>Adj Close</th>\n",
       "    </tr>\n",
       "    <tr>\n",
       "      <th>Date</th>\n",
       "      <th></th>\n",
       "      <th></th>\n",
       "      <th></th>\n",
       "      <th></th>\n",
       "      <th></th>\n",
       "      <th></th>\n",
       "    </tr>\n",
       "  </thead>\n",
       "  <tbody>\n",
       "    <tr>\n",
       "      <th>2017-01-03</th>\n",
       "      <td>167.869995</td>\n",
       "      <td>166.009995</td>\n",
       "      <td>167.000000</td>\n",
       "      <td>167.190002</td>\n",
       "      <td>2934300.0</td>\n",
       "      <td>145.416626</td>\n",
       "    </tr>\n",
       "    <tr>\n",
       "      <th>2017-01-04</th>\n",
       "      <td>169.869995</td>\n",
       "      <td>167.360001</td>\n",
       "      <td>167.770004</td>\n",
       "      <td>169.259995</td>\n",
       "      <td>3381400.0</td>\n",
       "      <td>147.217041</td>\n",
       "    </tr>\n",
       "    <tr>\n",
       "      <th>2017-01-05</th>\n",
       "      <td>169.389999</td>\n",
       "      <td>167.259995</td>\n",
       "      <td>169.250000</td>\n",
       "      <td>168.699997</td>\n",
       "      <td>2682300.0</td>\n",
       "      <td>146.729950</td>\n",
       "    </tr>\n",
       "    <tr>\n",
       "      <th>2017-01-06</th>\n",
       "      <td>169.919998</td>\n",
       "      <td>167.520004</td>\n",
       "      <td>168.690002</td>\n",
       "      <td>169.529999</td>\n",
       "      <td>2945500.0</td>\n",
       "      <td>147.451843</td>\n",
       "    </tr>\n",
       "    <tr>\n",
       "      <th>2017-01-09</th>\n",
       "      <td>169.800003</td>\n",
       "      <td>167.619995</td>\n",
       "      <td>169.470001</td>\n",
       "      <td>167.649994</td>\n",
       "      <td>3189900.0</td>\n",
       "      <td>145.816681</td>\n",
       "    </tr>\n",
       "  </tbody>\n",
       "</table>\n",
       "</div>"
      ],
      "text/plain": [
       "                  High         Low        Open       Close     Volume  \\\n",
       "Date                                                                    \n",
       "2017-01-03  167.869995  166.009995  167.000000  167.190002  2934300.0   \n",
       "2017-01-04  169.869995  167.360001  167.770004  169.259995  3381400.0   \n",
       "2017-01-05  169.389999  167.259995  169.250000  168.699997  2682300.0   \n",
       "2017-01-06  169.919998  167.520004  168.690002  169.529999  2945500.0   \n",
       "2017-01-09  169.800003  167.619995  169.470001  167.649994  3189900.0   \n",
       "\n",
       "             Adj Close  \n",
       "Date                    \n",
       "2017-01-03  145.416626  \n",
       "2017-01-04  147.217041  \n",
       "2017-01-05  146.729950  \n",
       "2017-01-06  147.451843  \n",
       "2017-01-09  145.816681  "
      ]
     },
     "metadata": {},
     "output_type": "display_data"
    },
    {
     "data": {
      "text/html": [
       "<div>\n",
       "<style scoped>\n",
       "    .dataframe tbody tr th:only-of-type {\n",
       "        vertical-align: middle;\n",
       "    }\n",
       "\n",
       "    .dataframe tbody tr th {\n",
       "        vertical-align: top;\n",
       "    }\n",
       "\n",
       "    .dataframe thead th {\n",
       "        text-align: right;\n",
       "    }\n",
       "</style>\n",
       "<table border=\"1\" class=\"dataframe\">\n",
       "  <thead>\n",
       "    <tr style=\"text-align: right;\">\n",
       "      <th></th>\n",
       "      <th>High</th>\n",
       "      <th>Low</th>\n",
       "      <th>Open</th>\n",
       "      <th>Close</th>\n",
       "      <th>Volume</th>\n",
       "      <th>Adj Close</th>\n",
       "    </tr>\n",
       "    <tr>\n",
       "      <th>Date</th>\n",
       "      <th></th>\n",
       "      <th></th>\n",
       "      <th></th>\n",
       "      <th></th>\n",
       "      <th></th>\n",
       "      <th></th>\n",
       "    </tr>\n",
       "  </thead>\n",
       "  <tbody>\n",
       "    <tr>\n",
       "      <th>2020-04-20</th>\n",
       "      <td>122.860001</td>\n",
       "      <td>118.139999</td>\n",
       "      <td>119.150002</td>\n",
       "      <td>120.410004</td>\n",
       "      <td>8181700.0</td>\n",
       "      <td>120.410004</td>\n",
       "    </tr>\n",
       "    <tr>\n",
       "      <th>2020-04-21</th>\n",
       "      <td>117.150002</td>\n",
       "      <td>112.059998</td>\n",
       "      <td>114.000000</td>\n",
       "      <td>116.760002</td>\n",
       "      <td>14349000.0</td>\n",
       "      <td>116.760002</td>\n",
       "    </tr>\n",
       "    <tr>\n",
       "      <th>2020-04-22</th>\n",
       "      <td>120.330002</td>\n",
       "      <td>117.550003</td>\n",
       "      <td>119.870003</td>\n",
       "      <td>119.309998</td>\n",
       "      <td>7087900.0</td>\n",
       "      <td>119.309998</td>\n",
       "    </tr>\n",
       "    <tr>\n",
       "      <th>2020-04-23</th>\n",
       "      <td>123.029999</td>\n",
       "      <td>119.120003</td>\n",
       "      <td>119.570000</td>\n",
       "      <td>121.349998</td>\n",
       "      <td>6881600.0</td>\n",
       "      <td>121.349998</td>\n",
       "    </tr>\n",
       "    <tr>\n",
       "      <th>2020-04-24</th>\n",
       "      <td>125.000000</td>\n",
       "      <td>120.760002</td>\n",
       "      <td>122.410004</td>\n",
       "      <td>124.720001</td>\n",
       "      <td>4985900.0</td>\n",
       "      <td>124.720001</td>\n",
       "    </tr>\n",
       "  </tbody>\n",
       "</table>\n",
       "</div>"
      ],
      "text/plain": [
       "                  High         Low        Open       Close      Volume  \\\n",
       "Date                                                                     \n",
       "2020-04-20  122.860001  118.139999  119.150002  120.410004   8181700.0   \n",
       "2020-04-21  117.150002  112.059998  114.000000  116.760002  14349000.0   \n",
       "2020-04-22  120.330002  117.550003  119.870003  119.309998   7087900.0   \n",
       "2020-04-23  123.029999  119.120003  119.570000  121.349998   6881600.0   \n",
       "2020-04-24  125.000000  120.760002  122.410004  124.720001   4985900.0   \n",
       "\n",
       "             Adj Close  \n",
       "Date                    \n",
       "2020-04-20  120.410004  \n",
       "2020-04-21  116.760002  \n",
       "2020-04-22  119.309998  \n",
       "2020-04-23  121.349998  \n",
       "2020-04-24  124.720001  "
      ]
     },
     "metadata": {},
     "output_type": "display_data"
    }
   ],
   "source": [
    "display(df.head())\n",
    "display(df.tail())"
   ]
  },
  {
   "cell_type": "markdown",
   "metadata": {},
   "source": [
    "# make a chart"
   ]
  },
  {
   "cell_type": "code",
   "execution_count": 15,
   "metadata": {
    "ExecuteTime": {
     "end_time": "2020-04-25T11:12:32.457875Z",
     "start_time": "2020-04-25T11:12:32.301402Z"
    }
   },
   "outputs": [
    {
     "data": {
      "image/png": "[encoded data removed]",
      "text/plain": [
       "<Figure size 1296x288 with 1 Axes>"
      ]
     },
     "metadata": {
      "needs_background": "light"
     },
     "output_type": "display_data"
    }
   ],
   "source": [
    "plt.figure(figsize = (18,4))\n",
    "plt.plot(df.index,df['Close'], color = 'steelblue', linewidth = 1)\n",
    "plt.xlabel('Date', fontsize = 12)\n",
    "plt.ylabel('Price', fontsize = 12)\n",
    "plt.title('Price Chart for {}'.format(company), fontsize = 15)\n",
    "plt.grid(which = 'major')\n",
    "plt.show()"
   ]
  },
  {
   "cell_type": "code",
   "execution_count": null,
   "metadata": {},
   "outputs": [],
   "source": []
  }
 ],
 "metadata": {
  "kernelspec": {
   "display_name": "Python 3.7.3 64-bit ('Aaron': virtualenv)",
   "language": "python",
   "name": "python37364bitaaronvirtualenv08b34073438b4d84a690821a1b474dc5"
  },
  "language_info": {
   "codemirror_mode": {
    "name": "ipython",
    "version": 3
   },
   "file_extension": ".py",
   "mimetype": "text/x-python",
   "name": "python",
   "nbconvert_exporter": "python",
   "pygments_lexer": "ipython3",
   "version": "3.7.3"
  },
  "toc": {
   "base_numbering": 1,
   "nav_menu": {},
   "number_sections": true,
   "sideBar": true,
   "skip_h1_title": false,
   "title_cell": "Table of Contents",
   "title_sidebar": "Contents",
   "toc_cell": false,
   "toc_position": {},
   "toc_section_display": true,
   "toc_window_display": false
  },
  "varInspector": {
   "cols": {
    "lenName": 16,
    "lenType": 16,
    "lenVar": 40
   },
   "kernels_config": {
    "python": {
     "delete_cmd_postfix": "",
     "delete_cmd_prefix": "del ",
     "library": "var_list.py",
     "varRefreshCmd": "print(var_dic_list())"
    },
    "r": {
     "delete_cmd_postfix": ") ",
     "delete_cmd_prefix": "rm(",
     "library": "var_list.r",
     "varRefreshCmd": "cat(var_dic_list()) "
    }
   },
   "types_to_exclude": [
    "module",
    "function",
    "builtin_function_or_method",
    "instance",
    "_Feature"
   ],
   "window_display": false
  }
 },
 "nbformat": 4,
 "nbformat_minor": 4
}
